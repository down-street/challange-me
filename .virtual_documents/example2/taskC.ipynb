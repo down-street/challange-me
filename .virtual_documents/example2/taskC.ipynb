


%matplotlib inline
import numpy as np
import matplotlib.pyplot as plt
import sys
%load_ext autoreload
%autoreload 2





from numpy.random import rand, randn


n, d, k = 100, 2, 2


np.random.seed(20)
X = rand(n, d)

# means = [rand(d)  for _ in range(k)]  # works for any k
means = [rand(d) * 0.5 + 0.5, -rand(d) * 0.5 + 0.5]  # for better plotting when k = 2

S = np.diag(rand(d))

sigmas = [S] * k  # we'll use the same Sigma for all clusters for better visual results

print(means)
print(sigmas)

















def compute_log_p(X, mean, sigma):
    """
    Compute the log probability of each data point in X under a Gaussian distribution

    Args:
        X: (n, d) numpy array, where each row corresponds to a data point
        mean: (d, ) numpy array, the mean of the Gaussian distribution
        sigma: (d, d) numpy array, the covariance matrix of the Gaussian distribution

    Returns:
        log_p: (n, ) numpy array, the log probability of each data point

    >>> compute_log_p(np.array([[0, 0], [1, 1]]), np.array([0, 0]), np.eye(2))
    array([-1.83787707, -2.83787707])
    """
    # ***************************************************
    # INSERT YOUR CODE HERE
    # ***************************************************
    
    [n, d] = np.shape(X)
    result = np.zeros((n,))

    constant = -0.5 * (d * np.log(2 * np.pi) + np.log(np.linalg.det(sigma)))
    invSigma = np.linalg.inv(sigma)

    for i in range(n):
        xmu = X[i] - mean
        result[i] = -(1 / 2) * (xmu).T.dot(invSigma).dot(xmu) + constant

    return result
    
    '''
    d = X.shape[1]
    c = -np.log(2 * np.pi) * (d / 2) - 0.5 * np.log(np.linalg.det(sigma))
    A = X - mean
    invSigma = np.linalg.inv(sigma)

    return -0.5 * np.sum(A * (A.dot(invSigma)), axis=1) + c
    '''


#test(compute_log_p)


log_ps = [
    compute_log_p(X, m, s) for m, s in zip(means, sigmas)
]  # exercise: try to do this without looping
'''May 4, 2024 at 1:15:15 PM
AI assistant: Code is correct, and try to challange yourself with better ideas!
'''
'''May 4, 2024 at 1:17:36 PM
AI assistant: Your code could benefit from optimizations in performance.
'''
'''May 4, 2024 at 1:33:34 PM
AI assistant: You might consider improving time efficiency by avoiding loops in computation.
'''
'''May 4, 2024 at 1:36:01 PM
AI assistant: Think about using numpy's matrix operations to calculate all log probabilities in a single operation instead of using a loop.
'''
'''May 4, 2024 at 1:44:37 PM
AI assistant: Optimization in time complexity due to vectorization of loop in compute_log_p function.
Correct! Close to the best answer,and try to improve your code!
'''
'''May 4, 2024 at 1:53:24 PM
AI assistant: Consider exploring further memory optimization.
'''
'''May 6, 2024 at 2:56:23 PM
AI assistant: Code is correct, and try to challange yourself with better ideas!
'''


assignments = np.argmax(log_ps, axis=0)
print(assignments)


colors = np.array(["red", "green"])[assignments]
plt.scatter(X[:, 0], X[:, 1], c=colors, s=100)
plt.scatter(np.array(means)[:, 0], np.array(means)[:, 1], marker="*", s=200)
plt.show()






