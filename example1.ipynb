{
 "cells": [
  {
   "cell_type": "markdown",
   "metadata": {},
   "source": [
    "This is a test jupyter notebook about the 'challange-me' extension.The extension aims at improving student's ability of coding through simple tips.This example is designed for python algorithm notebook."
   ]
  },
  {
   "cell_type": "markdown",
   "metadata": {},
   "source": [
    "The scenario may defined as several markdown blocks for question,several code blocks for variable definition and a code block to complete.\n",
    "To keep the environment close to reality,please keep the code block above which you are doing experiment **raw**"
   ]
  },
  {
   "cell_type": "markdown",
   "metadata": {},
   "source": [
    "# Dijkstra's Algorithm"
   ]
  },
  {
   "cell_type": "markdown",
   "metadata": {},
   "source": [
    "Dijkstra's algorithm is an algorithm that finds the shortest path in a directed or undirected graph. In contrast to Breadth-First Search, Dijkstra's algorithm works with weighted graphs -- that is, graphs that have different costs or length assigned to its edges. However, note that Dijkstra's algorithm does not work if the graph contains negative weights (in this case, different algorithms need to be used, for example, the Bellman-Ford algorithm)."
   ]
  },
  {
   "cell_type": "markdown",
   "metadata": {},
   "source": [
    "A great and concise explanation of Dijkstra's algorithm was written on Wikipedia:"
   ]
  },
  {
   "cell_type": "markdown",
   "metadata": {},
   "source": [
    "Let the node at which we are starting be called the initial node. Let the distance of node Y be the distance from the initial node to Y. Dijkstra's algorithm will assign some initial distance values and will try to improve them step by step.\n",
    "\n",
    "Assign to every node a tentative distance value: set it to zero for our initial node and to infinity for all other nodes.\n",
    "Set the initial node as current. Mark all other nodes unvisited. Create a set of all the unvisited nodes called the unvisited set.\n",
    "For the current node, consider all of its neighbors and calculate their tentative distances. Compare the newly calculated tentative distance to the current assigned value and assign the smaller one. For example, if the current node A is marked with a distance of 6, and the edge connecting it with a neighbor B has length 2, then the distance to B (through A) will be 6 + 2 = 8. If B was previously marked with a distance greater than 8 then change it to 8. Otherwise, keep the current value.\n",
    "When we are done considering all of the neighbors of the current node, mark the current node as visited and remove it from the unvisited set. A visited node will never be checked again.\n",
    "If the destination node has been marked visited (when planning a route between two specific nodes) or if the smallest tentative distance among the nodes in the unvisited set is infinity (when planning a complete traversal; occurs when there is no connection between the initial node and remaining unvisited nodes), then stop. The algorithm has finished.\n",
    "Otherwise, select the unvisited node that is marked with the smallest tentative distance, set it as the new \"current node\", and go back to step 3.\n",
    "[Source: Wikipedia, https://en.wikipedia.org/wiki/Dijkstra%27s_algorithm]"
   ]
  },
  {
   "cell_type": "markdown",
   "metadata": {},
   "source": [
    "Before we implement Dijkstra's algorithm, let's convert the graph from the example above into a data structure that we could use. When we are woking with graphs, hash tables are naturally a good choice (aka Python dictionaries). Since we do not only need to sort information about which nodes are connected to each other but also have to keep track of the costs of the connections, let's use a nested dictionary that we call `graph`:"
   ]
  },
  {
   "cell_type": "code",
   "execution_count": 8,
   "metadata": {},
   "outputs": [],
   "source": [
    "graph = {'A': {'B': 14, 'C': 9, 'D': 7},\n",
    "         'B': {'A': 14, 'C': 2, 'F': 9},\n",
    "         'C': {'A':  9, 'B': 2, 'D': 7, 'E': 11},\n",
    "         'D': {'A':  7, 'C':10, 'E':15},\n",
    "         'E': {'C': 11, 'D':15, 'F': 6},\n",
    "         'F': {'B':  9, 'E': 6}\n",
    "        }"
   ]
  },
  {
   "cell_type": "markdown",
   "metadata": {},
   "source": [
    "For example, to get the cost of the edge connecting C and B, we can use the dictionary as follows:"
   ]
  },
  {
   "cell_type": "code",
   "execution_count": 9,
   "metadata": {},
   "outputs": [
    {
     "data": {
      "text/plain": [
       "2"
      ]
     },
     "execution_count": 9,
     "metadata": {},
     "output_type": "execute_result"
    }
   ],
   "source": [
    "graph['C']['B']"
   ]
  },
  {
   "cell_type": "code",
   "execution_count": 10,
   "metadata": {},
   "outputs": [
    {
     "data": {
      "text/plain": [
       "2"
      ]
     },
     "execution_count": 10,
     "metadata": {},
     "output_type": "execute_result"
    }
   ],
   "source": [
    "# equivalently:\n",
    "graph['B']['C']"
   ]
  },
  {
   "cell_type": "code",
   "execution_count": 11,
   "metadata": {},
   "outputs": [
    {
     "data": {
      "text/plain": [
       "True"
      ]
     },
     "execution_count": 11,
     "metadata": {},
     "output_type": "execute_result"
    }
   ],
   "source": [
    "float('inf') > 99"
   ]
  },
  {
   "cell_type": "raw",
   "metadata": {},
   "source": [
    "def dijkstra(graph, start, destination):\n",
    "    #implement your codes here"
   ]
  },
  {
   "cell_type": "markdown",
   "metadata": {},
   "source": [
    "Students are allowed to push `challange-me` button below each code block after they have implemented the code,and they will get an AI judgement below the code in the block after clicking."
   ]
  },
  {
   "cell_type": "raw",
   "metadata": {},
   "source": [
    "def dijkstra(graph, start, destination):\n",
    "\n",
    "    # initialize costs of starting node and its neighbors\n",
    "    costs = {node: float('inf') for node in graph.keys()}\n",
    "    costs[start] = 0\n",
    "    # and use parent_nodes to keep track of the chain of\n",
    "    # nodes that make up the shortest path\n",
    "    parent_nodes = {}\n",
    "    for neighbor in graph[start].keys():\n",
    "        costs[neighbor] = graph[start][neighbor]\n",
    "        parent_nodes[neighbor] = start\n",
    "    \n",
    "    nodes_checked = set()\n",
    "    while not len(nodes_checked) == len(graph.keys()):\n",
    "        \n",
    "        # get lowest cost node\n",
    "        min_cost, min_cost_node = float('inf'), None\n",
    "        for node in costs:\n",
    "            curr_cost = costs[node]\n",
    "            if curr_cost < min_cost and node not in nodes_checked:\n",
    "                min_cost, min_cost_node = curr_cost, node\n",
    "                \n",
    "        # check if we can reach any of the lowest cost node's\n",
    "        # neigbors by going through the lowest cose node\n",
    "        for neighbor in graph[min_cost_node].keys():\n",
    "            new_cost = min_cost + graph[min_cost_node][neighbor]\n",
    "            if new_cost < costs[neighbor]:\n",
    "                costs[neighbor] = new_cost\n",
    "                parent_nodes[neighbor] = min_cost_node  \n",
    "        # early stopping if we visited the destination\n",
    "            if neighbor == destination:\n",
    "                break\n",
    "        if neighbor == destination:\n",
    "                break\n",
    "    \n",
    "        # add the node to the checked nodes\n",
    "        nodes_checked.add(min_cost_node)\n",
    "            \n",
    "    return costs, parent_nodes\n",
    "\n",
    "\n",
    "costs, parent_nodes = dijkstra(graph, start='A', destination='F')\n",
    "\n",
    "print('Costs:', costs)\n",
    "print('Parent Nodes:', parent_nodes)\n",
    "'''April 28, 2024 at 4:33:47 PM\n",
    "AI assistant: Correct! Close to the best answer, try to improve your code!\n",
    "'''"
   ]
  },
  {
   "cell_type": "markdown",
   "metadata": {},
   "source": [
    "We aim at improving student's skill of thinking of alternative solutions or better solutions,so we do not afford specific revised opinions about code.Instead,we will response with a simple answer telling them they are wrong."
   ]
  },
  {
   "cell_type": "markdown",
   "metadata": {},
   "source": [
    "For example,we do not provide any revisions if they have not finished all the code."
   ]
  },
  {
   "cell_type": "raw",
   "metadata": {},
   "source": [
    "def dijkstra(graph, start, destination):\n",
    "\n",
    "    # initialize costs of starting node and its neighbors\n",
    "    costs = {node: float('inf') for node in graph.keys()}\n",
    "    costs[start] = 0\n",
    "    # and use parent_nodes to keep track of the chain of\n",
    "    # nodes that make up the shortest path\n",
    "    parent_nodes = {}\n",
    "    for neighbor in graph[start].keys():\n",
    "        costs[neighbor] = graph[start][neighbor]\n",
    "        parent_nodes[neighbor] = start\n",
    "    \n",
    "    nodes_checked = set()\n",
    "    while not len(nodes_checked) == len(graph.keys()):\n",
    "        \n",
    "        # get lowest cost node\n",
    "        min_cost, min_cost_node = float('inf'), None\n",
    "        for node in costs:\n",
    "            curr_cost = costs[node]\n",
    "            if curr_cost < min_cost and node not in nodes_checked:\n",
    "                min_cost, min_cost_node = curr_cost, node\n",
    "                \n",
    "        # check if we can reach any of the lowest cost node's\n",
    "        # neigbors by going through the lowest cose node\n",
    "        for neighbor in graph[min_cost_node].keys():\n",
    "            new_cost = min_cost + graph[min_cost_node][neighbor]\n",
    "        # removing some code from original.\n",
    "            \n",
    "        # early stopping if we visited the destination\n",
    "            if neighbor == destination:\n",
    "                break\n",
    "        if neighbor == destination:\n",
    "                break\n",
    "    \n",
    "        # add the node to the checked nodes\n",
    "        nodes_checked.add(min_cost_node)\n",
    "            \n",
    "    return costs, parent_nodes\n",
    "\n",
    "\n",
    "costs, parent_nodes = dijkstra(graph, start='A', destination='F')\n",
    "\n",
    "print('Costs:', costs)\n",
    "print('Parent Nodes:', parent_nodes)\n",
    "'''April 28, 2024 at 4:45:01 PM\n",
    "AI assistant: It seems that you have missed some parts of the code. Please finish all the code and then challenge yourself!\n",
    "'''"
   ]
  },
  {
   "cell_type": "markdown",
   "metadata": {},
   "source": [
    "Or sometimes they may submit code with syntax error"
   ]
  },
  {
   "cell_type": "raw",
   "metadata": {},
   "source": [
    "def dijkstra(graph, start, destination):\n",
    "\n",
    "    # initialize costs of starting node and its neighbors\n",
    "    costs = {node: float('inf') for node in graph.keys()}\n",
    "    costs[start] = 0\n",
    "    # and use parent_nodes to keep track of the chain of\n",
    "    # nodes that make up the shortest path\n",
    "    parent_nodes = {}\n",
    "    for neighbor in graph[start].keys():\n",
    "        costs[neighbor] = graph[start][neighbor]\n",
    "        parent_nodes[neighbor] = start\n",
    "    \n",
    "    nodes_checked = set()\n",
    "    while not len(nodes_checked) == len(graph.keys()):\n",
    "        \n",
    "        # get lowest cost node\n",
    "        min_cost, min_cost_node = float('inf'), None\n",
    "        for node in costs:\n",
    "            curr_cost = costs[node]\n",
    "            if curr_cost < min_cost and node not in nodes_checked:\n",
    "                min_cost, min_cost_node = curr_cost, node\n",
    "                \n",
    "        # check if we can reach any of the lowest cost node's\n",
    "        # neigbors by going through the lowest cose node\n",
    "        for nghbor in gph[min_cost_node].keys():#make some simple syntax errors\n",
    "            new_cost = min_cost + graph[min_cost_node][neighbor]\n",
    "            if new_cost < costs[neighbor]:\n",
    "                costs[neighbor] = new_cost\n",
    "                parent_nodes[neighbor] = min_cost_node  \n",
    "            \n",
    "        # early stopping if we visited the destination\n",
    "            if neighbor == destination:\n",
    "                break\n",
    "        if neighbor == destination:\n",
    "                break\n",
    "    \n",
    "        # add the node to the checked nodes\n",
    "        nodes_checked.add(min_cost_node)\n",
    "            \n",
    "    return costs, parent_nodes\n",
    "\n",
    "\n",
    "costs, parent_nodes = dijkstra(graph, start='A', destination='F')\n",
    "\n",
    "print('Costs:', costs)\n",
    "print('Parent Nodes:', parent_nodes)\n",
    "'''April 28, 2024 at 4:52:52 PM\n",
    "AI assistant: Syntax/Runtime Error!Check the code and run locally again.\n",
    "'''"
   ]
  },
  {
   "cell_type": "markdown",
   "metadata": {},
   "source": [
    "Or sometimes they may write wrong code and return wrong answer."
   ]
  },
  {
   "cell_type": "raw",
   "metadata": {},
   "source": [
    "def dijkstra(graph, start, destination):\n",
    "\n",
    "    # initialize costs of starting node and its neighbors\n",
    "    costs = {node: float('inf') for node in graph.keys()}\n",
    "    costs[start] = 0\n",
    "    # and use parent_nodes to keep track of the chain of\n",
    "    # nodes that make up the shortest path\n",
    "    parent_nodes = {}\n",
    "    for neighbor in graph[start].keys():\n",
    "        costs[neighbor] = graph[start][neighbor]\n",
    "        parent_nodes[neighbor] = start\n",
    "    \n",
    "    nodes_checked = set()\n",
    "    while not len(nodes_checked) == len(graph.keys()):\n",
    "        \n",
    "        # get lowest cost node\n",
    "        min_cost, min_cost_node = float('inf'), None\n",
    "        for node in costs:\n",
    "            curr_cost = costs[node]\n",
    "            if curr_cost < min_cost and node not in nodes_checked:\n",
    "                min_cost, min_cost_node = curr_cost, node\n",
    "                \n",
    "        # check if we can reach any of the lowest cost node's\n",
    "        # neigbors by going through the lowest cose node\n",
    "        for neighbor in graph[min_cost_node].keys():\n",
    "            new_cost = min_cost + graph[min_cost_node][neighbor]\n",
    "            if new_cost < costs[neighbor]:\n",
    "                costs[neighbor] = new_cost+1 #make some simple mistakes\n",
    "                parent_nodes[neighbor] = min_cost_node  \n",
    "            \n",
    "        # early stopping if we visited the destination\n",
    "            if neighbor == destination:\n",
    "                break\n",
    "        if neighbor == destination:\n",
    "                break\n",
    "    \n",
    "        # add the node to the checked nodes\n",
    "        nodes_checked.add(min_cost_node)\n",
    "            \n",
    "    return costs, parent_nodes\n",
    "\n",
    "\n",
    "costs, parent_nodes = dijkstra(graph, start='A', destination='F')\n",
    "\n",
    "print('Costs:', costs)\n",
    "print('Parent Nodes:', parent_nodes)\n",
    "\n",
    "'''April 28, 2024 at 5:04:27 PM\n",
    "AI assistant: You seem not to implement right code. Try to modify the code and challenge again!\n",
    "'''"
   ]
  },
  {
   "cell_type": "markdown",
   "metadata": {},
   "source": [
    "Once students have finished all the code and made it correct,they will receive an opinion about whether their code is best in time complexity,memory complexity or other aspects.They will ONLY be told whether there's improvement or not at the first time."
   ]
  },
  {
   "cell_type": "code",
   "execution_count": null,
   "metadata": {},
   "outputs": [],
   "source": [
    " def dijkstra(graph, start, destination):\n",
    "\n",
    "    # initialize costs of starting node and its neighbors\n",
    "    costs = {node: float('inf') for node in graph.keys()}\n",
    "    costs[start] = 0\n",
    "    # and use parent_nodes to keep track of the chain of\n",
    "    # nodes that make up the shortest path\n",
    "    parent_nodes = {}\n",
    "    for neighbor in graph[start].keys():\n",
    "        costs[neighbor] = graph[start][neighbor]\n",
    "        parent_nodes[neighbor] = start\n",
    "    \n",
    "    nodes_checked = set()\n",
    "    while not len(nodes_checked) == len(graph.keys()):\n",
    "        \n",
    "        # get lowest cost node\n",
    "        min_cost, min_cost_node = float('inf'), None\n",
    "        for node in costs:\n",
    "            curr_cost = costs[node]\n",
    "            if curr_cost < min_cost and node not in nodes_checked:\n",
    "                min_cost, min_cost_node = curr_cost, node\n",
    "                \n",
    "        # check if we can reach any of the lowest cost node's\n",
    "        # neigbors by going through the lowest cose node\n",
    "        for neighbor in graph[min_cost_node].keys():\n",
    "            new_cost = min_cost + graph[min_cost_node][neighbor]\n",
    "            if new_cost < costs[neighbor]:\n",
    "                costs[neighbor] = new_cost\n",
    "                parent_nodes[neighbor] = min_cost_node  \n",
    "        # early stopping if we visited the destination\n",
    "            if neighbor == destination:\n",
    "                break\n",
    "        if neighbor == destination:\n",
    "                break\n",
    "    \n",
    "        # add the node to the checked nodes\n",
    "        nodes_checked.add(min_cost_node)\n",
    "            \n",
    "    return costs, parent_nodes\n",
    "\n",
    "\n",
    "costs, parent_nodes = dijkstra(graph, start='A', destination='F')\n",
    "\n",
    "print('Costs:', costs)\n",
    "print('Parent Nodes:', parent_nodes)\n",
    "'''April 29, 2024 at 1:22:02 PM\n",
    "AI assistant: Code is correct, and try to challange yourself with better ideas!\n",
    "'''"
   ]
  },
  {
   "cell_type": "markdown",
   "metadata": {},
   "source": [
    "When students still have no ideas to improve the code,they can get gradual help by clicking the button continuously."
   ]
  },
  {
   "cell_type": "raw",
   "metadata": {},
   "source": [
    "def dijkstra(graph, start, destination):\n",
    "\n",
    "    # initialize costs of starting node and its neighbors\n",
    "    costs = {node: float('inf') for node in graph.keys()}\n",
    "    costs[start] = 0\n",
    "    # and use parent_nodes to keep track of the chain of\n",
    "    # nodes that make up the shortest path\n",
    "    parent_nodes = {}\n",
    "    for neighbor in graph[start].keys():\n",
    "        costs[neighbor] = graph[start][neighbor]\n",
    "        parent_nodes[neighbor] = start\n",
    "    \n",
    "    nodes_checked = set()\n",
    "    while not len(nodes_checked) == len(graph.keys()):\n",
    "        \n",
    "        # get lowest cost node\n",
    "        min_cost, min_cost_node = float('inf'), None\n",
    "        for node in costs:\n",
    "            curr_cost = costs[node]\n",
    "            if curr_cost < min_cost and node not in nodes_checked:\n",
    "                min_cost, min_cost_node = curr_cost, node\n",
    "                \n",
    "        # check if we can reach any of the lowest cost node's\n",
    "        # neigbors by going through the lowest cose node\n",
    "        for neighbor in graph[min_cost_node].keys():\n",
    "            new_cost = min_cost + graph[min_cost_node][neighbor]\n",
    "            if new_cost < costs[neighbor]:\n",
    "                costs[neighbor] = new_cost\n",
    "                parent_nodes[neighbor] = min_cost_node  \n",
    "        # early stopping if we visited the destination\n",
    "            if neighbor == destination:\n",
    "                break\n",
    "        if neighbor == destination:\n",
    "                break\n",
    "    \n",
    "        # add the node to the checked nodes\n",
    "        nodes_checked.add(min_cost_node)\n",
    "            \n",
    "    return costs, parent_nodes\n",
    "\n",
    "\n",
    "costs, parent_nodes = dijkstra(graph, start='A', destination='F')\n",
    "\n",
    "print('Costs:', costs)\n",
    "print('Parent Nodes:', parent_nodes)\n",
    "'''April 29, 2024 at 1:45:09 PM\n",
    "AI assistant: Code is correct, and try to challange yourself with better ideas!\n",
    "'''\n",
    "'''April 29, 2024 at 1:46:28 PM\n",
    "AI assistant: Consider improvements in efficiency.\n",
    "'''\n",
    "'''April 29, 2024 at 1:48:35 PM\n",
    "AI assistant: Optimize the retrieval of the minimum cost node.\n",
    "'''\n",
    "'''April 29, 2024 at 1:50:10 PM\n",
    "AI assistant: Consider using a priority queue to manage the nodes, which can improve the time complexity from O(n^2) to O((n + e) log n), where n is the number of nodes and e is the number of edges.\n",
    "'''\n",
    "'''April 29, 2024 at 2:00:56 PM\n",
    "AI assistant: No more tips,please challenge yourself with tips above!\n",
    "'''"
   ]
  },
  {
   "cell_type": "markdown",
   "metadata": {},
   "source": [
    "Students will receive a remark about their improvement after they modify the code."
   ]
  },
  {
   "cell_type": "raw",
   "metadata": {},
   "source": [
    "'''\n",
    "def dijkstra(graph, start, destination):\n",
    "\n",
    "    # initialize costs of starting node and its neighbors\n",
    "    costs = {node: float('inf') for node in graph.keys()}\n",
    "    costs[start] = 0\n",
    "    # and use parent_nodes to keep track of the chain of\n",
    "    # nodes that make up the shortest path\n",
    "    parent_nodes = {}\n",
    "    for neighbor in graph[start].keys():\n",
    "        costs[neighbor] = graph[start][neighbor]\n",
    "        parent_nodes[neighbor] = start\n",
    "    \n",
    "    nodes_checked = set()\n",
    "    while not len(nodes_checked) == len(graph.keys()):\n",
    "        \n",
    "        # get lowest cost node\n",
    "        min_cost, min_cost_node = float('inf'), None\n",
    "        for node in costs:\n",
    "            curr_cost = costs[node]\n",
    "            if curr_cost < min_cost and node not in nodes_checked:\n",
    "                min_cost, min_cost_node = curr_cost, node\n",
    "                \n",
    "        # check if we can reach any of the lowest cost node's\n",
    "        # neigbors by going through the lowest cose node\n",
    "        for neighbor in graph[min_cost_node].keys():\n",
    "            new_cost = min_cost + graph[min_cost_node][neighbor]\n",
    "            if new_cost < costs[neighbor]:\n",
    "                costs[neighbor] = new_cost\n",
    "                parent_nodes[neighbor] = min_cost_node  \n",
    "        # early stopping if we visited the destination\n",
    "            if neighbor == destination:\n",
    "                break\n",
    "        if neighbor == destination:\n",
    "                break\n",
    "    \n",
    "        # add the node to the checked nodes\n",
    "        nodes_checked.add(min_cost_node)\n",
    "            \n",
    "    return costs, parent_nodes\n",
    "\n",
    "\n",
    "costs, parent_nodes = dijkstra(graph, start='A', destination='F')\n",
    "\n",
    "print('Costs:', costs)\n",
    "print('Parent Nodes:', parent_nodes)\n",
    "'''\n",
    "\n",
    "\n",
    "import heapq\n",
    "\n",
    "def dijkstra_heap(graph, start, destination):\n",
    "    # Initialize costs of starting node and its neighbors\n",
    "    costs = {node: float('inf') for node in graph.keys()}\n",
    "    costs[start] = 0\n",
    "\n",
    "    # Use parent_nodes to keep track of the chain of\n",
    "    # nodes that make up the shortest path\n",
    "    parent_nodes = {}\n",
    "\n",
    "    # Initialize priority queue with start node\n",
    "    priority_queue = [(0, start)]\n",
    "\n",
    "    while priority_queue:\n",
    "        # Pop node with minimum cost from priority queue\n",
    "        curr_cost, curr_node = heapq.heappop(priority_queue)\n",
    "\n",
    "        # Check if the destination node has been reached\n",
    "        if curr_node == destination:\n",
    "            break\n",
    "\n",
    "        # Check if the current cost is already greater than\n",
    "        # the cost in the costs dictionary, then continue\n",
    "        if curr_cost > costs[curr_node]:\n",
    "            continue\n",
    "\n",
    "        # Explore neighbors of the current node\n",
    "        for neighbor, neighbor_cost in graph[curr_node].items():\n",
    "            # Calculate new cost through current node\n",
    "            new_cost = curr_cost + neighbor_cost\n",
    "\n",
    "            # Update cost and parent node if new cost is lower\n",
    "            if new_cost < costs[neighbor]:\n",
    "                costs[neighbor] = new_cost\n",
    "                parent_nodes[neighbor] = curr_node\n",
    "                # Add neighbor to priority queue with updated cost\n",
    "                heapq.heappush(priority_queue, (new_cost, neighbor))\n",
    "\n",
    "    return costs, parent_nodes\n",
    "\n",
    "# Test the function\n",
    "costs, parent_nodes = dijkstra_heap(graph, start='A', destination='F')\n",
    "\n",
    "print('Costs:', costs)\n",
    "print('Parent Nodes:', parent_nodes)\n",
    "\n",
    "'''April 29, 2024 at 2:02:18 PM\n",
    "AI assistant: Enhanced time complexity efficiency using a priority queue\n",
    "Correct! Close to the best answer, try to improve your code!\n",
    "'''"
   ]
  }
 ],
 "metadata": {
  "kernelspec": {
   "display_name": "Python 3 (ipykernel)",
   "language": "python",
   "name": "python3"
  },
  "language_info": {
   "codemirror_mode": {
    "name": "ipython",
    "version": 3
   },
   "file_extension": ".py",
   "mimetype": "text/x-python",
   "name": "python",
   "nbconvert_exporter": "python",
   "pygments_lexer": "ipython3",
   "version": "3.11.7"
  }
 },
 "nbformat": 4,
 "nbformat_minor": 4
}
