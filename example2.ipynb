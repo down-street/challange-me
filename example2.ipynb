{
 "cells": [
  {
   "cell_type": "markdown",
   "metadata": {},
   "source": [
    "This is a test jupyter notebook about the 'challange-me' extension.The extension aims at improving student's ability of coding through simple tips.This example is designed for python notebook in machine-learning in computing the log probability of each data point in X under a Gaussian distribution."
   ]
  },
  {
   "cell_type": "code",
   "execution_count": 1,
   "metadata": {},
   "outputs": [],
   "source": [
    "import numpy as np\n",
    "import sys\n",
    "import doctest\n",
    "import io\n",
    "%load_ext autoreload\n",
    "%autoreload 2\n"
   ]
  },
  {
   "cell_type": "markdown",
   "metadata": {
    "id": "TYyZPqnPmhYC"
   },
   "source": [
    "Data Generation\n",
    "==="
   ]
  },
  {
   "cell_type": "code",
   "execution_count": 2,
   "metadata": {},
   "outputs": [],
   "source": [
    "from numpy.random import rand, randn\n",
    "def test(f):\n",
    "    # The `globs` defines the variables, functions and packages allowed in the docstring.\n",
    "    tests = doctest.DocTestFinder().find(f, globs={f.__name__: f, \"np\": np})\n",
    "    assert len(tests) <= 1\n",
    "    for test in tests:\n",
    "        # We redirect stdout to a string, so we can tell if the tests worked out or not\n",
    "        orig_stdout = sys.stdout\n",
    "        sys.stdout = io.StringIO()\n",
    "\n",
    "        try:\n",
    "            results: doctest.TestResults = doctest.DocTestRunner().run(test)\n",
    "            output = sys.stdout.getvalue()\n",
    "        finally:\n",
    "            sys.stdout = orig_stdout\n",
    "\n",
    "        if results.failed > 0:\n",
    "            print(f\"❌ The are some issues with your implementation of `{f.__name__}`:\")\n",
    "            print(output, end=\"\")\n",
    "            print(\n",
    "                \"**********************************************************************\"\n",
    "            )\n",
    "        elif results.attempted > 0:\n",
    "            print(f\"✅ Your `{f.__name__}` passed {results.attempted} tests.\")\n",
    "        else:\n",
    "            print(f\"Could not find any tests for {f.__name__}\")\n"
   ]
  },
  {
   "cell_type": "code",
   "execution_count": 3,
   "metadata": {},
   "outputs": [],
   "source": [
    "n, d, k = 100, 2, 2"
   ]
  },
  {
   "cell_type": "code",
   "execution_count": 4,
   "metadata": {},
   "outputs": [
    {
     "name": "stdout",
     "output_type": "stream",
     "text": [
      "[array([0.69872366, 0.75176984]), array([0.25997411, 0.14504062])]\n",
      "[array([[0.01764816, 0.        ],\n",
      "       [0.        , 0.06360523]]), array([[0.01764816, 0.        ],\n",
      "       [0.        , 0.06360523]])]\n"
     ]
    }
   ],
   "source": [
    "np.random.seed(20)\n",
    "X = rand(n, d)\n",
    "\n",
    "# means = [rand(d)  for _ in range(k)]  # works for any k\n",
    "means = [rand(d) * 0.5 + 0.5, -rand(d) * 0.5 + 0.5]  # for better plotting when k = 2\n",
    "\n",
    "S = np.diag(rand(d))\n",
    "\n",
    "sigmas = [S] * k  # we'll use the same Sigma for all clusters for better visual results\n",
    "\n",
    "print(means)\n",
    "print(sigmas)"
   ]
  },
  {
   "cell_type": "markdown",
   "metadata": {
    "id": "VsIOpA8QmhYI"
   },
   "source": [
    "Solution\n",
    "==="
   ]
  },
  {
   "cell_type": "markdown",
   "metadata": {},
   "source": [
    "Similar to example1, we will not give feedbacks if students implement the wrong code:"
   ]
  },
  {
   "cell_type": "raw",
   "metadata": {},
   "source": [
    "def compute_log_p(X, mean, sigma):\n",
    "    \"\"\"\n",
    "    Compute the log probability of each data point in X under a Gaussian distribution\n",
    "\n",
    "    Args:\n",
    "        X: (n, d) numpy array, where each row corresponds to a data point\n",
    "        mean: (d, ) numpy array, the mean of the Gaussian distribution\n",
    "        sigma: (d, d) numpy array, the covariance matrix of the Gaussian distribution\n",
    "\n",
    "    Returns:\n",
    "        log_p: (n, ) numpy array, the log probability of each data point\n",
    "\n",
    "    >>> compute_log_p(np.array([[0, 0], [1, 1]]), np.array([0, 0]), np.eye(2))\n",
    "    array([-1.83787707, -2.83787707])\n",
    "    \"\"\"\n",
    "    # ***************************************************\n",
    "    # INSERT YOUR CODE HERE\n",
    "    # ***************************************************\n",
    "    [n, d] = np.shaeepe(X)#syntax error\n",
    "    result = np.zeros((n,))\n",
    "\n",
    "    constant = -0.5 * (d * np.log(2 * np.pi) + np.log(np.linalg.det(sigma)))\n",
    "    invSigma = np.linalg.inv(sigma)\n",
    "\n",
    "    for i in range(n):\n",
    "        xmu = X[i] - mean\n",
    "        result[i] = -(1 / 2) * (xmu).T.dot(invSigma).dot(xmu) + constant\n",
    "\n",
    "    return result\n",
    "\n",
    "\n",
    "#test(compute_log_p)\n",
    "'''May 4, 2024 at 12:44:12 PM\n",
    "AI assistant: Syntax/Runtime Error!Check the code and run locally again.\n",
    "'''"
   ]
  },
  {
   "cell_type": "raw",
   "metadata": {},
   "source": [
    "def compute_log_p(X, mean, sigma):\n",
    "    \"\"\"\n",
    "    Compute the log probability of each data point in X under a Gaussian distribution\n",
    "\n",
    "    Args:\n",
    "        X: (n, d) numpy array, where each row corresponds to a data point\n",
    "        mean: (d, ) numpy array, the mean of the Gaussian distribution\n",
    "        sigma: (d, d) numpy array, the covariance matrix of the Gaussian distribution\n",
    "\n",
    "    Returns:\n",
    "        log_p: (n, ) numpy array, the log probability of each data point\n",
    "\n",
    "    >>> compute_log_p(np.array([[0, 0], [1, 1]]), np.array([0, 0]), np.eye(2))\n",
    "    array([-1.83787707, -2.83787707])\n",
    "    \"\"\"\n",
    "    # ***************************************************\n",
    "    # INSERT YOUR CODE HERE\n",
    "    # ***************************************************\n",
    "    [n, d] = np.shape(X)\n",
    "    result = np.zeros((n,))\n",
    "\n",
    "    constant = -0.5 * (d * np.log(2 * np.pi) + np.log(np.linalg.det(sigma)))\n",
    "    invSigma = np.linalg.inv(sigma)\n",
    "\n",
    "    for i in range(n):\n",
    "        #remove some code\n",
    "        result[i] = -(1 / 2) * (xmu).T.dot(invSigma).dot(xmu) + constant\n",
    "\n",
    "    return result\n",
    "\n",
    "\n",
    "#test(compute_log_p)\n",
    "'''May 4, 2024 at 12:50:32 PM\n",
    "AI assistant: It seems that you have missed some parts of the code. Please finish all the code and then challenge yourself!\n",
    "'''"
   ]
  },
  {
   "cell_type": "markdown",
   "metadata": {},
   "source": [
    "And you can get gradual help if you continue clicking challenge-me button:"
   ]
  },
  {
   "cell_type": "code",
   "execution_count": 5,
   "metadata": {},
   "outputs": [],
   "source": [
    "def compute_log_p(X, mean, sigma):\n",
    "    \"\"\"\n",
    "    Compute the log probability of each data point in X under a Gaussian distribution\n",
    "\n",
    "    Args:\n",
    "        X: (n, d) numpy array, where each row corresponds to a data point\n",
    "        mean: (d, ) numpy array, the mean of the Gaussian distribution\n",
    "        sigma: (d, d) numpy array, the covariance matrix of the Gaussian distribution\n",
    "\n",
    "    Returns:\n",
    "        log_p: (n, ) numpy array, the log probability of each data point\n",
    "\n",
    "    >>> compute_log_p(np.array([[0, 0], [1, 1]]), np.array([0, 0]), np.eye(2))\n",
    "    array([-1.83787707, -2.83787707])\n",
    "    \"\"\"\n",
    "    # ***************************************************\n",
    "    # INSERT YOUR CODE HERE\n",
    "    # ***************************************************\n",
    "    \n",
    "    [n, d] = np.shape(X)\n",
    "    result = np.zeros((n,))\n",
    "\n",
    "    constant = -0.5 * (d * np.log(2 * np.pi) + np.log(np.linalg.det(sigma)))\n",
    "    invSigma = np.linalg.inv(sigma)\n",
    "\n",
    "    for i in range(n):\n",
    "        xmu = X[i] - mean\n",
    "        result[i] = -(1 / 2) * (xmu).T.dot(invSigma).dot(xmu) + constant\n",
    "\n",
    "    return result\n",
    "    \n",
    "    '''\n",
    "    d = X.shape[1]\n",
    "    c = -np.log(2 * np.pi) * (d / 2) - 0.5 * np.log(np.linalg.det(sigma))\n",
    "    A = X - mean\n",
    "    invSigma = np.linalg.inv(sigma)\n",
    "\n",
    "    return -0.5 * np.sum(A * (A.dot(invSigma)), axis=1) + c\n",
    "    '''\n",
    "\n",
    "\n",
    "#test(compute_log_p)"
   ]
  },
  {
   "cell_type": "code",
   "execution_count": null,
   "metadata": {},
   "outputs": [],
   "source": [
    "log_ps = [\n",
    "    compute_log_p(X, m, s) for m, s in zip(means, sigmas)\n",
    "]  # exercise: try to do this without looping\n",
    "'''May 4, 2024 at 1:15:15 PM\n",
    "AI assistant: Code is correct, and try to challange yourself with better ideas!\n",
    "'''\n",
    "'''May 4, 2024 at 1:17:36 PM\n",
    "AI assistant: Your code could benefit from optimizations in performance.\n",
    "'''\n",
    "'''May 4, 2024 at 1:33:34 PM\n",
    "AI assistant: You might consider improving time efficiency by avoiding loops in computation.\n",
    "'''\n",
    "'''May 4, 2024 at 1:36:01 PM\n",
    "AI assistant: Think about using numpy's matrix operations to calculate all log probabilities in a single operation instead of using a loop.\n",
    "'''\n",
    "'''May 4, 2024 at 1:44:37 PM\n",
    "AI assistant: Optimization in time complexity due to vectorization of loop in compute_log_p function.\n",
    "Correct! Close to the best answer,and try to improve your code!\n",
    "'''\n",
    "'''May 4, 2024 at 1:53:24 PM\n",
    "AI assistant: Consider exploring further memory optimization.\n",
    "'''\n",
    "'''May 6, 2024 at 2:56:23 PM\n",
    "AI assistant: Code is correct, and try to challange yourself with better ideas!\n",
    "'''"
   ]
  },
  {
   "cell_type": "code",
   "execution_count": 7,
   "metadata": {},
   "outputs": [
    {
     "name": "stdout",
     "output_type": "stream",
     "text": [
      "[0 0 1 1 0 1 0 0 1 1 0 1 0 0 0 0 1 0 1 1 0 1 1 1 0 0 0 0 0 1 1 0 0 1 1 0 0\n",
      " 1 0 1 1 1 1 0 1 0 1 0 0 0 0 1 0 1 1 0 0 0 0 1 0 1 0 0 1 0 0 0 1 0 1 0 0 1\n",
      " 0 1 1 0 0 1 1 0 0 0 0 1 0 0 0 0 0 1 0 1 0 0 0 1 0 0]\n"
     ]
    }
   ],
   "source": [
    "assignments = np.argmax(log_ps, axis=0)\n",
    "print(assignments)\n",
    "'''May 13, 2024 at 9:21:06 AM\n",
    "Challenge-me: Code is correct, and try to challange yourself with better ideas!\n",
    "'''"
   ]
  },
  {
   "cell_type": "code",
   "execution_count": null,
   "metadata": {},
   "outputs": [],
   "source": []
  },
  {
   "cell_type": "code",
   "execution_count": null,
   "metadata": {},
   "outputs": [],
   "source": []
  },
  {
   "cell_type": "code",
   "execution_count": null,
   "metadata": {},
   "outputs": [],
   "source": []
  }
 ],
 "metadata": {
  "kernelspec": {
   "display_name": "Python 3 (ipykernel)",
   "language": "python",
   "name": "python3"
  },
  "language_info": {
   "codemirror_mode": {
    "name": "ipython",
    "version": 3
   },
   "file_extension": ".py",
   "mimetype": "text/x-python",
   "name": "python",
   "nbconvert_exporter": "python",
   "pygments_lexer": "ipython3",
   "version": "3.8.12"
  }
 },
 "nbformat": 4,
 "nbformat_minor": 4
}
